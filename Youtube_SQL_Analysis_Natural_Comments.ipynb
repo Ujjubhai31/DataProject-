{
 "cells": [
  {
   "cell_type": "code",
   "execution_count": null,
   "id": "c462faed",
   "metadata": {},
   "outputs": [],
   "source": [
    "# Load all necessary libraries\n",
    "import pandas as pd\n",
    "import sqlite3\n",
    "import matplotlib.pyplot as plt\n",
    "import seaborn as sns"
   ]
  },
  {
   "cell_type": "code",
   "execution_count": null,
   "id": "da442d3b",
   "metadata": {},
   "outputs": [],
   "source": [
    "# Read the video statistics dataset\n",
    "df = pd.read_csv(\"videos-stats.csv\")"
   ]
  },
  {
   "cell_type": "code",
   "execution_count": null,
   "id": "0207d4b9",
   "metadata": {},
   "outputs": [],
   "source": [
    "# Clean and prepare the data for analysis\n",
    "df['Published At'] = pd.to_datetime(df['Published At'], errors='coerce')\n",
    "df.dropna(subset=['Views', 'Likes', 'Comments'], inplace=True)\n",
    "df['Views'] = pd.to_numeric(df['Views'], errors='coerce')\n",
    "df['Likes'] = pd.to_numeric(df['Likes'], errors='coerce')\n",
    "df['Comments'] = pd.to_numeric(df['Comments'], errors='coerce')\n",
    "df.drop_duplicates(inplace=True)\n",
    "df['like_view_ratio'] = df['Likes'] / df['Views']"
   ]
  },
  {
   "cell_type": "code",
   "execution_count": null,
   "id": "a8334d0b",
   "metadata": {},
   "outputs": [],
   "source": [
    "# Store the DataFrame in an in-memory SQLite database for SQL queries\n",
    "conn = sqlite3.connect(':memory:')\n",
    "df.to_sql(\"youtube_stats\", conn, index=False, if_exists=\"replace\")"
   ]
  },
  {
   "cell_type": "code",
   "execution_count": null,
   "id": "3af65c25",
   "metadata": {},
   "outputs": [],
   "source": [
    "# Find the 10 most viewed videos\n",
    "query_top_views = \"\"\"\n",
    "SELECT Title, Views, Likes, Comments, like_view_ratio\n",
    "FROM youtube_stats\n",
    "ORDER BY Views DESC\n",
    "LIMIT 10\n",
    "\"\"\"\n",
    "top_views = pd.read_sql_query(query_top_views, conn)\n",
    "print(\"Top 10 Videos by View Count:\")\n",
    "print(top_views)"
   ]
  },
  {
   "cell_type": "code",
   "execution_count": null,
   "id": "b002dd9b",
   "metadata": {},
   "outputs": [],
   "source": [
    "# Identify videos with the highest like-to-view ratio\n",
    "query_top_ratio = \"\"\"\n",
    "SELECT Title, Views, Likes, like_view_ratio\n",
    "FROM youtube_stats\n",
    "WHERE Views > 100000\n",
    "ORDER BY like_view_ratio DESC\n",
    "LIMIT 10\n",
    "\"\"\"\n",
    "top_ratios = pd.read_sql_query(query_top_ratio, conn)\n",
    "print(\"\\nTop 10 Videos by Like-to-View Ratio:\")\n",
    "print(top_ratios)"
   ]
  },
  {
   "cell_type": "code",
   "execution_count": null,
   "id": "c9d35dbf",
   "metadata": {},
   "outputs": [],
   "source": [
    "# Plot how like-to-view ratios are distributed\n",
    "plt.figure(figsize=(10, 6))\n",
    "sns.histplot(df['like_view_ratio'], bins=50, kde=True)\n",
    "plt.title('Distribution of Like-to-View Ratios')\n",
    "plt.xlabel('Like/View Ratio')\n",
    "plt.ylabel('Frequency')\n",
    "plt.show()"
   ]
  }
 ],
 "metadata": {
  "kernelspec": {
   "display_name": "Python 3",
   "language": "python",
   "name": "python3"
  },
  "language_info": {
   "name": "python"
  }
 },
 "nbformat": 4,
 "nbformat_minor": 5
}
